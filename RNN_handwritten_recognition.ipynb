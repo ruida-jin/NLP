{
 "cells": [
  {
   "cell_type": "markdown",
   "metadata": {},
   "source": [
    "### RNN_handwritten_recognition"
   ]
  },
  {
   "cell_type": "code",
   "execution_count": 3,
   "metadata": {
    "ExecuteTime": {
     "end_time": "2021-01-22T08:18:12.582674Z",
     "start_time": "2021-01-22T08:18:12.293085Z"
    }
   },
   "outputs": [],
   "source": [
    "import torch\n",
    "import torchvision"
   ]
  },
  {
   "cell_type": "code",
   "execution_count": 4,
   "metadata": {
    "ExecuteTime": {
     "end_time": "2021-01-22T08:21:34.888811Z",
     "start_time": "2021-01-22T08:21:29.133671Z"
    }
   },
   "outputs": [
    {
     "name": "stdout",
     "output_type": "stream",
     "text": [
      "Downloading http://yann.lecun.com/exdb/mnist/train-images-idx3-ubyte.gz\n",
      "Downloading http://yann.lecun.com/exdb/mnist/train-labels-idx1-ubyte.gz\n",
      "Downloading http://yann.lecun.com/exdb/mnist/t10k-images-idx3-ubyte.gz\n",
      "Downloading http://yann.lecun.com/exdb/mnist/t10k-labels-idx1-ubyte.gz\n",
      "Processing...\n",
      "Done!\n"
     ]
    }
   ],
   "source": [
    "train_data = torchvision.datasets.MNIST(\n",
    "    root='./mnist/',\n",
    "    train = True,\n",
    "    transform = torchvision.transforms.ToTensor(),\n",
    "    download = True\n",
    ")"
   ]
  },
  {
   "cell_type": "markdown",
   "metadata": {},
   "source": [
    "### create train data set"
   ]
  },
  {
   "cell_type": "code",
   "execution_count": 5,
   "metadata": {
    "ExecuteTime": {
     "end_time": "2021-01-22T08:24:55.334477Z",
     "start_time": "2021-01-22T08:24:55.330493Z"
    }
   },
   "outputs": [],
   "source": [
    "train_data_set = torch.utils.data.DataLoader(dataset=train_data, batch_size=50,shuffle=True)\n"
   ]
  },
  {
   "cell_type": "markdown",
   "metadata": {},
   "source": [
    "### download test data"
   ]
  },
  {
   "cell_type": "code",
   "execution_count": 6,
   "metadata": {
    "ExecuteTime": {
     "end_time": "2021-01-22T08:25:53.726232Z",
     "start_time": "2021-01-22T08:25:53.713212Z"
    }
   },
   "outputs": [],
   "source": [
    "test_data = torchvision.datasets.MNIST(\n",
    "    root='./mnist/',\n",
    "    train = False\n",
    ")"
   ]
  },
  {
   "cell_type": "markdown",
   "metadata": {},
   "source": [
    "### create test data set"
   ]
  },
  {
   "cell_type": "code",
   "execution_count": 7,
   "metadata": {
    "ExecuteTime": {
     "end_time": "2021-01-22T08:29:31.103128Z",
     "start_time": "2021-01-22T08:29:31.054122Z"
    }
   },
   "outputs": [],
   "source": [
    "test_x = torch.unsqueeze(test_data.test_data, dim=1).type(torch.FloatTensor)[:2000]/255\n",
    "test_y = test_data.test_labels[:2000]"
   ]
  },
  {
   "cell_type": "markdown",
   "metadata": {},
   "source": [
    "### create RNN model"
   ]
  },
  {
   "cell_type": "code",
   "execution_count": 33,
   "metadata": {
    "ExecuteTime": {
     "end_time": "2021-01-22T09:04:32.554170Z",
     "start_time": "2021-01-22T09:04:32.546161Z"
    }
   },
   "outputs": [],
   "source": [
    "class LpRnnModel(torch.nn.Module):\n",
    "    def __init__(self):\n",
    "        super(LpRnnModel, self).__init__()\n",
    "        self.rnn = torch.nn.LSTM(\n",
    "            input_size = 28,\n",
    "            hidden_size = 64,\n",
    "            num_layers = 1,\n",
    "            batch_first = True\n",
    "        )\n",
    "        self.out = torch.nn.Linear(64,10)\n",
    "        \n",
    "    def forward(self, input):\n",
    "        r_out, (h_n, h_c) = self.rnn(input, None)\n",
    "        out = self.out(r_out[:,-1,:])\n",
    "        return out\n",
    "        \n"
   ]
  },
  {
   "cell_type": "markdown",
   "metadata": {},
   "source": [
    "### instantiation RNN model"
   ]
  },
  {
   "cell_type": "code",
   "execution_count": 34,
   "metadata": {
    "ExecuteTime": {
     "end_time": "2021-01-22T09:04:33.902149Z",
     "start_time": "2021-01-22T09:04:33.898197Z"
    }
   },
   "outputs": [],
   "source": [
    "model = LpRnnModel()"
   ]
  },
  {
   "cell_type": "markdown",
   "metadata": {},
   "source": [
    "### show model"
   ]
  },
  {
   "cell_type": "code",
   "execution_count": 35,
   "metadata": {
    "ExecuteTime": {
     "end_time": "2021-01-22T09:04:34.915604Z",
     "start_time": "2021-01-22T09:04:34.911582Z"
    }
   },
   "outputs": [
    {
     "name": "stdout",
     "output_type": "stream",
     "text": [
      "LpRnnModel(\n",
      "  (rnn): LSTM(28, 64, batch_first=True)\n",
      "  (out): Linear(in_features=64, out_features=10, bias=True)\n",
      ")\n"
     ]
    }
   ],
   "source": [
    "print(model)"
   ]
  },
  {
   "cell_type": "markdown",
   "metadata": {},
   "source": [
    "### create optimizer"
   ]
  },
  {
   "cell_type": "code",
   "execution_count": 36,
   "metadata": {
    "ExecuteTime": {
     "end_time": "2021-01-22T09:04:36.161625Z",
     "start_time": "2021-01-22T09:04:36.157639Z"
    }
   },
   "outputs": [],
   "source": [
    "optimizer = torch.optim.Adam(model.parameters(), lr=0.01)"
   ]
  },
  {
   "cell_type": "markdown",
   "metadata": {},
   "source": [
    "### create loss function"
   ]
  },
  {
   "cell_type": "code",
   "execution_count": 37,
   "metadata": {
    "ExecuteTime": {
     "end_time": "2021-01-22T09:04:37.356158Z",
     "start_time": "2021-01-22T09:04:37.353165Z"
    }
   },
   "outputs": [],
   "source": [
    "loss_function = torch.nn.CrossEntropyLoss()"
   ]
  },
  {
   "cell_type": "markdown",
   "metadata": {},
   "source": [
    "### train data"
   ]
  },
  {
   "cell_type": "code",
   "execution_count": 40,
   "metadata": {
    "ExecuteTime": {
     "end_time": "2021-01-22T09:08:46.050608Z",
     "start_time": "2021-01-22T09:05:53.255938Z"
    }
   },
   "outputs": [
    {
     "name": "stdout",
     "output_type": "stream",
     "text": [
      "step: 0\n",
      "step: 100\n",
      "step: 200\n",
      "step: 300\n",
      "step: 400\n",
      "step: 500\n",
      "step: 600\n",
      "step: 700\n",
      "step: 800\n",
      "step: 900\n",
      "step: 1000\n",
      "step: 1100\n",
      "step: 0\n",
      "step: 100\n",
      "step: 200\n",
      "step: 300\n",
      "step: 400\n",
      "step: 500\n",
      "step: 600\n",
      "step: 700\n",
      "step: 800\n",
      "step: 900\n",
      "step: 1000\n",
      "step: 1100\n",
      "step: 0\n",
      "step: 100\n",
      "step: 200\n",
      "step: 300\n",
      "step: 400\n",
      "step: 500\n",
      "step: 600\n",
      "step: 700\n",
      "step: 800\n",
      "step: 900\n",
      "step: 1000\n",
      "step: 1100\n",
      "step: 0\n",
      "step: 100\n",
      "step: 200\n",
      "step: 300\n",
      "step: 400\n",
      "step: 500\n",
      "step: 600\n",
      "step: 700\n",
      "step: 800\n",
      "step: 900\n",
      "step: 1000\n",
      "step: 1100\n"
     ]
    }
   ],
   "source": [
    "for epoch in range(4):\n",
    "    for step, (images, labels) in enumerate(train_data_set):\n",
    "        images = images.view(-1, 28, 28)\n",
    "        output = model(images)\n",
    "        loss = loss_function(output, labels)\n",
    "        optimizer.zero_grad()\n",
    "        loss.backward()\n",
    "        optimizer.step()\n",
    "        if step % 100 == 0:\n",
    "            print('step:', step)"
   ]
  },
  {
   "cell_type": "markdown",
   "metadata": {},
   "source": [
    "### test model"
   ]
  },
  {
   "cell_type": "code",
   "execution_count": 47,
   "metadata": {
    "ExecuteTime": {
     "end_time": "2021-01-22T10:55:31.961135Z",
     "start_time": "2021-01-22T10:55:31.750703Z"
    }
   },
   "outputs": [
    {
     "name": "stdout",
     "output_type": "stream",
     "text": [
      "tensor([[-5.8902,  0.3118, -0.0079,  ...,  9.9473, -3.7547,  0.7059],\n",
      "        [-2.2920,  0.6756, 10.1040,  ..., -0.6901, -1.3821, -4.1922],\n",
      "        [-5.8612, 12.1498, -3.0362,  ..., -0.3553,  0.7722, -2.7464],\n",
      "        ...,\n",
      "        [-5.3020, -0.9501, -2.8806,  ..., -3.6264,  1.0152, -0.7813],\n",
      "        [-1.6402, -4.8339, -1.4461,  ..., -2.3657, -1.1507,  7.8918],\n",
      "        [-5.9501, -3.7440, -2.3580,  ..., -2.8311, -0.3545,  1.9548]],\n",
      "       grad_fn=<ThAddmmBackward>)\n",
      "[7 2 1 ... 3 9 5]\n",
      "tensor([7, 2, 1,  ..., 3, 9, 5])\n",
      "8 6 tensor(5)\n",
      "18 8 tensor(3)\n",
      "62 5 tensor(9)\n",
      "247 2 tensor(4)\n",
      "259 0 tensor(6)\n",
      "321 7 tensor(2)\n",
      "324 1 tensor(0)\n",
      "340 3 tensor(5)\n",
      "412 3 tensor(5)\n",
      "435 9 tensor(8)\n",
      "445 0 tensor(6)\n",
      "464 7 tensor(3)\n",
      "495 2 tensor(8)\n",
      "613 8 tensor(2)\n",
      "619 3 tensor(1)\n",
      "659 1 tensor(2)\n",
      "684 2 tensor(7)\n",
      "691 7 tensor(8)\n",
      "844 3 tensor(8)\n",
      "916 2 tensor(4)\n",
      "947 9 tensor(8)\n",
      "951 9 tensor(5)\n",
      "965 5 tensor(6)\n",
      "1014 5 tensor(6)\n",
      "1033 3 tensor(8)\n",
      "1039 2 tensor(7)\n",
      "1101 2 tensor(8)\n",
      "1226 2 tensor(7)\n",
      "1232 4 tensor(9)\n",
      "1260 1 tensor(7)\n",
      "1283 8 tensor(7)\n",
      "1299 3 tensor(5)\n",
      "1326 1 tensor(7)\n",
      "1344 5 tensor(6)\n",
      "1393 3 tensor(5)\n",
      "1425 4 tensor(8)\n",
      "1438 6 tensor(0)\n",
      "1522 1 tensor(7)\n",
      "1530 7 tensor(8)\n",
      "1533 6 tensor(0)\n",
      "1611 5 tensor(3)\n",
      "1620 3 tensor(2)\n",
      "1621 6 tensor(0)\n",
      "1681 7 tensor(3)\n",
      "1682 5 tensor(2)\n",
      "1709 3 tensor(9)\n",
      "1737 3 tensor(5)\n",
      "1754 2 tensor(7)\n",
      "1790 3 tensor(2)\n",
      "1871 3 tensor(2)\n",
      "1901 4 tensor(9)\n",
      "1981 9 tensor(6)\n",
      "1982 5 tensor(6)\n",
      "0.9735\n"
     ]
    }
   ],
   "source": [
    "output = model(test_x.view(-1,28,28))\n",
    "print(output)\n",
    "pred = torch.max(output, 1)[1].data.numpy()\n",
    "print(pred)\n",
    "print(test_y)\n",
    "sumValue = 0\n",
    "for index in range(2000):\n",
    "    if pred[index] == test_y[index]:\n",
    "        sumValue += 1.0\n",
    "    else:\n",
    "        print(index, pred[index], test_y[index])\n",
    "accuracy = float(sumValue / float(len(test_y)))\n",
    "print(accuracy)"
   ]
  },
  {
   "cell_type": "code",
   "execution_count": null,
   "metadata": {},
   "outputs": [],
   "source": []
  }
 ],
 "metadata": {
  "kernelspec": {
   "display_name": "Python 3",
   "language": "python",
   "name": "python3"
  },
  "language_info": {
   "codemirror_mode": {
    "name": "ipython",
    "version": 3
   },
   "file_extension": ".py",
   "mimetype": "text/x-python",
   "name": "python",
   "nbconvert_exporter": "python",
   "pygments_lexer": "ipython3",
   "version": "3.6.5"
  }
 },
 "nbformat": 4,
 "nbformat_minor": 4
}
